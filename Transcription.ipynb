{
 "cells": [
  {
   "cell_type": "markdown",
   "metadata": {},
   "source": [
    "An RNA string is a string formed from the alphabet containing 'A', 'C', 'G', and 'U'.\n",
    "\n",
    "Given a DNA string t corresponding to a coding strand, its transcribed RNA string u is formed by replacing all occurrences of 'T' in t with 'U' in u.\n",
    "\n",
    "Given: A DNA string t having length at most 1000 nt.\n",
    "\n",
    "Return: The transcribed RNA string of t.\n",
    "\n",
    "Sample Dataset\n",
    "GATGGAACTTGACTACGTAAATT\n",
    "Sample Output\n",
    "GAUGGAACUUGACUACGUAAAUU"
   ]
  },
  {
   "cell_type": "code",
   "execution_count": 20,
   "metadata": {
    "collapsed": true
   },
   "outputs": [],
   "source": [
    "Dna_seq=\"GATGGAACTTGACTACGTAAATT\""
   ]
  },
  {
   "cell_type": "code",
   "execution_count": 21,
   "metadata": {},
   "outputs": [
    {
     "name": "stdout",
     "output_type": "stream",
     "text": [
      "GAUGGAACUUGACUACGUAAAUU\n"
     ]
    }
   ],
   "source": [
    "RNA_seq=Dna_seq.replace(\"T\",\"U\")\n",
    "print(RNA_seq)"
   ]
  },
  {
   "cell_type": "code",
   "execution_count": 35,
   "metadata": {},
   "outputs": [
    {
     "name": "stdout",
     "output_type": "stream",
     "text": [
      "GCTATTACGACAGCAACCGAAGAGGTAAGATCTGGCTGAAGCGCAGCGAAGGAATCTCCACACTTTCTTGGCTTTATGGTGAGAGGTTGTATTCCACTAGAGATATCGATGCATGACTAGACTTGCAGTCCTCAGCATGCGGAACAACGTTGTAGCTAAGAGGGCTTGGCCGCACGCCTGATCGCGGCCTTATGCCCCCCCCTTTCGTGAGGCCAAGAGTTAAAGCTAAAGGATCGGAGGATCATGTACTGGCTGCATTTAGGAGCGGGATTATTCATGTAGCGACTCGTGTGGACATACCTAGAAGTTGCGATCTTAAGTCCAAAGTTAACTAATACCCGTGTAGCAGACCTGTCGAACCTAACACGCAGTTCCTTGTAACCTGCTTTCAATTATTATTCAACGCGTCGCCACCTCCTCTCGATTATGCGAGATTGTTGCGTGCTCGAGCCGGTGGCCAGTCAGTAACGCAGAATACACGCACTACCTTGCTACTAATGCATACAGAGGGCTCGATGATAACCCGTACTCTAGTCCCGACGCGCCATTCGCAGGCGAGTAATACAGCCCATCAGACTAAGATAGTCGTGAGTTGGTCCCGACATGGCGAGCGGGCCCTACTAATGCAGACATTAAAGAAGAACCCTGCGGAATTGCTCCCCGTGCGTGATTCATTAGCGACCCTAAGGCCTATGGGCCGGTTGTGGATCAATTGGTTAATGTGAGCCAGTGATGTATTATCACTATAGTCAACATACACCTTGATCAACAAGATAGCGGTAAATCAGTAGTCTAACGTGCCGCAGATATCCAGCGAGGCCTTACCTATGACTCACTACCTATGACTCCTCAATGGTGATTCAGATCGGGTTTGTCCTGCCCCTATTTACCGAAAATTGCCCCAGAAGAAAGCCACCATCACCCACCCATATCGTGGCTCGGAAGATATAAATAATAGGTCGACGCACGGTCTGCGTACGTCGCGCTTAAATC\n"
     ]
    },
    {
     "data": {
      "text/plain": [
       "str"
      ]
     },
     "execution_count": 35,
     "metadata": {},
     "output_type": "execute_result"
    }
   ],
   "source": [
    "#opening file\n",
    "DNA_file=open(\"rosalind_rna.txt\",\"r\")\n",
    "dna_seq=DNA_file.read().strip()\n",
    "print(dna_seq)\n",
    "type(dna_seq)"
   ]
  },
  {
   "cell_type": "code",
   "execution_count": 23,
   "metadata": {},
   "outputs": [
    {
     "name": "stdout",
     "output_type": "stream",
     "text": [
      "GCUAUUACGACAGCAACCGAAGAGGUAAGAUCUGGCUGAAGCGCAGCGAAGGAAUCUCCACACUUUCUUGGCUUUAUGGUGAGAGGUUGUAUUCCACUAGAGAUAUCGAUGCAUGACUAGACUUGCAGUCCUCAGCAUGCGGAACAACGUUGUAGCUAAGAGGGCUUGGCCGCACGCCUGAUCGCGGCCUUAUGCCCCCCCCUUUCGUGAGGCCAAGAGUUAAAGCUAAAGGAUCGGAGGAUCAUGUACUGGCUGCAUUUAGGAGCGGGAUUAUUCAUGUAGCGACUCGUGUGGACAUACCUAGAAGUUGCGAUCUUAAGUCCAAAGUUAACUAAUACCCGUGUAGCAGACCUGUCGAACCUAACACGCAGUUCCUUGUAACCUGCUUUCAAUUAUUAUUCAACGCGUCGCCACCUCCUCUCGAUUAUGCGAGAUUGUUGCGUGCUCGAGCCGGUGGCCAGUCAGUAACGCAGAAUACACGCACUACCUUGCUACUAAUGCAUACAGAGGGCUCGAUGAUAACCCGUACUCUAGUCCCGACGCGCCAUUCGCAGGCGAGUAAUACAGCCCAUCAGACUAAGAUAGUCGUGAGUUGGUCCCGACAUGGCGAGCGGGCCCUACUAAUGCAGACAUUAAAGAAGAACCCUGCGGAAUUGCUCCCCGUGCGUGAUUCAUUAGCGACCCUAAGGCCUAUGGGCCGGUUGUGGAUCAAUUGGUUAAUGUGAGCCAGUGAUGUAUUAUCACUAUAGUCAACAUACACCUUGAUCAACAAGAUAGCGGUAAAUCAGUAGUCUAACGUGCCGCAGAUAUCCAGCGAGGCCUUACCUAUGACUCACUACCUAUGACUCCUCAAUGGUGAUUCAGAUCGGGUUUGUCCUGCCCCUAUUUACCGAAAAUUGCCCCAGAAGAAAGCCACCAUCACCCACCCAUAUCGUGGCUCGGAAGAUAUAAAUAAUAGGUCGACGCACGGUCUGCGUACGUCGCGCUUAAAUC\n",
      "\n"
     ]
    }
   ],
   "source": [
    "#replacing \"T\" with \"U\"(complimeting a strand of DNA)\n",
    "RNA_seq=dna_seq.replace(\"T\",\"U\")\n",
    "print(RNA_seq)"
   ]
  },
  {
   "cell_type": "markdown",
   "metadata": {
    "collapsed": true
   },
   "source": [
    "In DNA strings, symbols 'A' and 'T' are complements of each other, as are 'C' and 'G'.\n",
    "\n",
    "The reverse complement of a DNA string s is the string sc formed by reversing the symbols of s, then taking the complement of each symbol (e.g., the reverse complement of \"GTCA\" is \"TGAC\").\n",
    "\n",
    "Given: A DNA string s of length at most 1000 bp.\n",
    "\n",
    "Return: The reverse complement sc of s."
   ]
  },
  {
   "cell_type": "code",
   "execution_count": 54,
   "metadata": {},
   "outputs": [
    {
     "name": "stdout",
     "output_type": "stream",
     "text": [
      "GATTTAAGCGCGACGTACGCAGACCGTGCGTCGACCTATTATTTATATCTTCCGAGCCACGATATGGGTGGGTGATGGTGGCTTTCTTCTGGGGCAATTTTCGGTAAATAGGGGCAGGACAAACCCGATCTGAATCACCATTGAGGAGTCATAGGTAGTGAGTCATAGGTAAGGCCTCGCTGGATATCTGCGGCACGTTAGACTACTGATTTACCGCTATCTTGTTGATCAAGGTGTATGTTGACTATAGTGATAATACATCACTGGCTCACATTAACCAATTGATCCACAACCGGCCCATAGGCCTTAGGGTCGCTAATGAATCACGCACGGGGAGCAATTCCGCAGGGTTCTTCTTTAATGTCTGCATTAGTAGGGCCCGCTCGCCATGTCGGGACCAACTCACGACTATCTTAGTCTGATGGGCTGTATTACTCGCCTGCGAATGGCGCGTCGGGACTAGAGTACGGGTTATCATCGAGCCCTCTGTATGCATTAGTAGCAAGGTAGTGCGTGTATTCTGCGTTACTGACTGGCCACCGGCTCGAGCACGCAACAATCTCGCATAATCGAGAGGAGGTGGCGACGCGTTGAATAATAATTGAAAGCAGGTTACAAGGAACTGCGTGTTAGGTTCGACAGGTCTGCTACACGGGTATTAGTTAACTTTGGACTTAAGATCGCAACTTCTAGGTATGTCCACACGAGTCGCTACATGAATAATCCCGCTCCTAAATGCAGCCAGTACATGATCCTCCGATCCTTTAGCTTTAACTCTTGGCCTCACGAAAGGGGGGGGCATAAGGCCGCGATCAGGCGTGCGGCCAAGCCCTCTTAGCTACAACGTTGTTCCGCATGCTGAGGACTGCAAGTCTAGTCATGCATCGATATCTCTAGTGGAATACAACCTCTCACCATAAAGCCAAGAAAGTGTGGAGATTCCTTCGCTGCGCTTCAGCCAGATCTTACCTCTTCGGTTGCTGTCGTAATAGC\n"
     ]
    }
   ],
   "source": [
    "# Reversing the sequence\n",
    "# list_dna=[]\n",
    "# for i in dna_seq:\n",
    "#     list_dna.append(i)\n",
    "# list_dna.reverse()\n",
    "# print(''.join(list_dna))\n",
    "\n",
    "# Confusing way\n",
    "reversed_dna=dna_seq[::-1]\n",
    "#complimetary_dna\n",
    "complimetary_dna=[]\n",
    "for i in reversed_dna:\n",
    "    if i == \"A\":\n",
    "        complimetary_dna.append(\"T\")\n",
    "    elif i ==\"T\":\n",
    "        complimetary_dna.append(\"A\")\n",
    "    elif i == \"G\":\n",
    "        complimetary_dna.append(\"C\")\n",
    "    elif i == \"C\":\n",
    "        complimetary_dna.append(\"G\")\n",
    "\n",
    "print(''.join(complimetary_dna))\n"
   ]
  },
  {
   "cell_type": "code",
   "execution_count": 55,
   "metadata": {},
   "outputs": [
    {
     "name": "stdout",
     "output_type": "stream",
     "text": [
      "GGGACGGTCGAAGAGTGACCGCCAGGGGTTGTTAAGGTTCGCAGTATTTGAAATTCAGCTTTCAACCACGCAAGGTGCCCCAGATTTCGTAGTTAGCCACCTCGGGTTCGGAGTGAGTTGCCAGTTTCTTCCTTCCGGTGTGTATTAGTAGAATGCGTACGCGTTCGACCTTTCTATGAGGTGCCTTCCTCACCCAAGCATCTACCACCTACGAGACTCGCCTGGAAACCTTAGTCATTTCACCTTGCTTAGACGCCAGCGTCCAATCTTGACTCACAGCGTATCAGTCGCGTGCTGTTTCCTCGCGTAAAACCCCAGTCATAACTTGGGTCAGCGGCGCGCGAAGCCATTATTTAGGAGACAGCAAACCTTCGGTCTTTGAGTAATCTCCCAGGGTTTGTGCTGATACTCTCGATAGCCGAACAAAAGCCATGTGTGATGAACAAAGCTGGTTATCTGGTGGCCTGACAATCCATACCAATTTAATCAGACCGCCATGGGTAATTTTAATCCTAGGACTGACACCATCTTCCAGTAGAACTTTTACAGGGGGTACATCGCGATATTGCGCTGTGAACAAACGGGCAAATATAATAACTTGACCAAGGTCAGGGTATTCAGGTTTTGAGCTCCCGAAAGTTTTATGTACTCTATCGAATCGAAAATACAGCCTGGCCTTGTTGCCGGCTCCGGAGACCTGGGACCGTCCCCAAGTTCAATTACAGGGCAATAGATCCAACTGATCAGGTTTTTGTATCCCACACACGCCTCGCCATCCGGCCAGTGAAACGCGCGTTAAAATTGGCTCCTACCTCCTTTAAGCAAATTATGGCGATTAATACTGCTTTACGCATGGCGATCCGAGATCTCGACTAA\n"
     ]
    },
    {
     "data": {
      "text/plain": [
       "str"
      ]
     },
     "execution_count": 55,
     "metadata": {},
     "output_type": "execute_result"
    }
   ],
   "source": [
    "#opening file\n",
    "revc_file=open(\"rosalind_revc.txt\",\"r\")\n",
    "dna_seq=revc_file.read().strip()\n",
    "print(dna_seq)\n",
    "type(dna_seq)"
   ]
  },
  {
   "cell_type": "code",
   "execution_count": 56,
   "metadata": {},
   "outputs": [
    {
     "name": "stdout",
     "output_type": "stream",
     "text": [
      "TTAGTCGAGATCTCGGATCGCCATGCGTAAAGCAGTATTAATCGCCATAATTTGCTTAAAGGAGGTAGGAGCCAATTTTAACGCGCGTTTCACTGGCCGGATGGCGAGGCGTGTGTGGGATACAAAAACCTGATCAGTTGGATCTATTGCCCTGTAATTGAACTTGGGGACGGTCCCAGGTCTCCGGAGCCGGCAACAAGGCCAGGCTGTATTTTCGATTCGATAGAGTACATAAAACTTTCGGGAGCTCAAAACCTGAATACCCTGACCTTGGTCAAGTTATTATATTTGCCCGTTTGTTCACAGCGCAATATCGCGATGTACCCCCTGTAAAAGTTCTACTGGAAGATGGTGTCAGTCCTAGGATTAAAATTACCCATGGCGGTCTGATTAAATTGGTATGGATTGTCAGGCCACCAGATAACCAGCTTTGTTCATCACACATGGCTTTTGTTCGGCTATCGAGAGTATCAGCACAAACCCTGGGAGATTACTCAAAGACCGAAGGTTTGCTGTCTCCTAAATAATGGCTTCGCGCGCCGCTGACCCAAGTTATGACTGGGGTTTTACGCGAGGAAACAGCACGCGACTGATACGCTGTGAGTCAAGATTGGACGCTGGCGTCTAAGCAAGGTGAAATGACTAAGGTTTCCAGGCGAGTCTCGTAGGTGGTAGATGCTTGGGTGAGGAAGGCACCTCATAGAAAGGTCGAACGCGTACGCATTCTACTAATACACACCGGAAGGAAGAAACTGGCAACTCACTCCGAACCCGAGGTGGCTAACTACGAAATCTGGGGCACCTTGCGTGGTTGAAAGCTGAATTTCAAATACTGCGAACCTTAACAACCCCTGGCGGTCACTCTTCGACCGTCCC\n"
     ]
    }
   ],
   "source": [
    "reversed_dna=dna_seq[::-1]\n",
    "#complimetary_dna\n",
    "complimetary_dna=[]\n",
    "for i in reversed_dna:\n",
    "    if i == \"A\":\n",
    "        complimetary_dna.append(\"T\")\n",
    "    elif i ==\"T\":\n",
    "        complimetary_dna.append(\"A\")\n",
    "    elif i == \"G\":\n",
    "        complimetary_dna.append(\"C\")\n",
    "    elif i == \"C\":\n",
    "        complimetary_dna.append(\"G\")\n",
    "\n",
    "print(''.join(complimetary_dna))\n"
   ]
  },
  {
   "cell_type": "code",
   "execution_count": null,
   "metadata": {
    "collapsed": true
   },
   "outputs": [],
   "source": []
  }
 ],
 "metadata": {
  "kernelspec": {
   "display_name": "Python [default]",
   "language": "python",
   "name": "python3"
  },
  "language_info": {
   "codemirror_mode": {
    "name": "ipython",
    "version": 3
   },
   "file_extension": ".py",
   "mimetype": "text/x-python",
   "name": "python",
   "nbconvert_exporter": "python",
   "pygments_lexer": "ipython3",
   "version": "3.6.3"
  }
 },
 "nbformat": 4,
 "nbformat_minor": 2
}
