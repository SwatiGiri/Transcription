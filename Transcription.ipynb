{
 "cells": [
  {
   "cell_type": "markdown",
   "metadata": {},
   "source": [
    "An RNA string is a string formed from the alphabet containing 'A', 'C', 'G', and 'U'.\n",
    "\n",
    "Given a DNA string t corresponding to a coding strand, its transcribed RNA string u is formed by replacing all occurrences of 'T' in t with 'U' in u.\n",
    "\n",
    "Given: A DNA string t having length at most 1000 nt.\n",
    "\n",
    "Return: The transcribed RNA string of t.\n",
    "\n",
    "Sample Dataset\n",
    "GATGGAACTTGACTACGTAAATT\n",
    "Sample Output\n",
    "GAUGGAACUUGACUACGUAAAUU"
   ]
  },
  {
   "cell_type": "code",
   "execution_count": 1,
   "metadata": {
    "collapsed": true
   },
   "outputs": [],
   "source": [
    "Dna_seq=\"GATGGAACTTGACTACGTAAATT\""
   ]
  },
  {
   "cell_type": "code",
   "execution_count": 6,
   "metadata": {},
   "outputs": [
    {
     "name": "stdout",
     "output_type": "stream",
     "text": [
      "GAUGGAACUUGACUACGUAAAUU\n"
     ]
    }
   ],
   "source": [
    "RNA_seq=Dna_seq.replace(\"T\",\"U\")\n",
    "print(RNA_seq)"
   ]
  },
  {
   "cell_type": "code",
   "execution_count": 7,
   "metadata": {},
   "outputs": [
    {
     "name": "stdout",
     "output_type": "stream",
     "text": [
      "GCTATTACGACAGCAACCGAAGAGGTAAGATCTGGCTGAAGCGCAGCGAAGGAATCTCCACACTTTCTTGGCTTTATGGTGAGAGGTTGTATTCCACTAGAGATATCGATGCATGACTAGACTTGCAGTCCTCAGCATGCGGAACAACGTTGTAGCTAAGAGGGCTTGGCCGCACGCCTGATCGCGGCCTTATGCCCCCCCCTTTCGTGAGGCCAAGAGTTAAAGCTAAAGGATCGGAGGATCATGTACTGGCTGCATTTAGGAGCGGGATTATTCATGTAGCGACTCGTGTGGACATACCTAGAAGTTGCGATCTTAAGTCCAAAGTTAACTAATACCCGTGTAGCAGACCTGTCGAACCTAACACGCAGTTCCTTGTAACCTGCTTTCAATTATTATTCAACGCGTCGCCACCTCCTCTCGATTATGCGAGATTGTTGCGTGCTCGAGCCGGTGGCCAGTCAGTAACGCAGAATACACGCACTACCTTGCTACTAATGCATACAGAGGGCTCGATGATAACCCGTACTCTAGTCCCGACGCGCCATTCGCAGGCGAGTAATACAGCCCATCAGACTAAGATAGTCGTGAGTTGGTCCCGACATGGCGAGCGGGCCCTACTAATGCAGACATTAAAGAAGAACCCTGCGGAATTGCTCCCCGTGCGTGATTCATTAGCGACCCTAAGGCCTATGGGCCGGTTGTGGATCAATTGGTTAATGTGAGCCAGTGATGTATTATCACTATAGTCAACATACACCTTGATCAACAAGATAGCGGTAAATCAGTAGTCTAACGTGCCGCAGATATCCAGCGAGGCCTTACCTATGACTCACTACCTATGACTCCTCAATGGTGATTCAGATCGGGTTTGTCCTGCCCCTATTTACCGAAAATTGCCCCAGAAGAAAGCCACCATCACCCACCCATATCGTGGCTCGGAAGATATAAATAATAGGTCGACGCACGGTCTGCGTACGTCGCGCTTAAATC\n",
      "\n"
     ]
    }
   ],
   "source": [
    "#opening file\n",
    "DNA_file=open(\"rosalind_rna.txt\",\"r\")\n",
    "dna_seq=DNA_file.read()\n",
    "print(dna_seq)"
   ]
  },
  {
   "cell_type": "code",
   "execution_count": 9,
   "metadata": {},
   "outputs": [
    {
     "name": "stdout",
     "output_type": "stream",
     "text": [
      "GCUAUUACGACAGCAACCGAAGAGGUAAGAUCUGGCUGAAGCGCAGCGAAGGAAUCUCCACACUUUCUUGGCUUUAUGGUGAGAGGUUGUAUUCCACUAGAGAUAUCGAUGCAUGACUAGACUUGCAGUCCUCAGCAUGCGGAACAACGUUGUAGCUAAGAGGGCUUGGCCGCACGCCUGAUCGCGGCCUUAUGCCCCCCCCUUUCGUGAGGCCAAGAGUUAAAGCUAAAGGAUCGGAGGAUCAUGUACUGGCUGCAUUUAGGAGCGGGAUUAUUCAUGUAGCGACUCGUGUGGACAUACCUAGAAGUUGCGAUCUUAAGUCCAAAGUUAACUAAUACCCGUGUAGCAGACCUGUCGAACCUAACACGCAGUUCCUUGUAACCUGCUUUCAAUUAUUAUUCAACGCGUCGCCACCUCCUCUCGAUUAUGCGAGAUUGUUGCGUGCUCGAGCCGGUGGCCAGUCAGUAACGCAGAAUACACGCACUACCUUGCUACUAAUGCAUACAGAGGGCUCGAUGAUAACCCGUACUCUAGUCCCGACGCGCCAUUCGCAGGCGAGUAAUACAGCCCAUCAGACUAAGAUAGUCGUGAGUUGGUCCCGACAUGGCGAGCGGGCCCUACUAAUGCAGACAUUAAAGAAGAACCCUGCGGAAUUGCUCCCCGUGCGUGAUUCAUUAGCGACCCUAAGGCCUAUGGGCCGGUUGUGGAUCAAUUGGUUAAUGUGAGCCAGUGAUGUAUUAUCACUAUAGUCAACAUACACCUUGAUCAACAAGAUAGCGGUAAAUCAGUAGUCUAACGUGCCGCAGAUAUCCAGCGAGGCCUUACCUAUGACUCACUACCUAUGACUCCUCAAUGGUGAUUCAGAUCGGGUUUGUCCUGCCCCUAUUUACCGAAAAUUGCCCCAGAAGAAAGCCACCAUCACCCACCCAUAUCGUGGCUCGGAAGAUAUAAAUAAUAGGUCGACGCACGGUCUGCGUACGUCGCGCUUAAAUC\n",
      "\n"
     ]
    }
   ],
   "source": [
    "#replacing \"T\" with \"U\"(complimeting a strand of DNA)\n",
    "RNA_seq=dna_seq.replace(\"T\",\"U\")\n",
    "print(RNA_seq)"
   ]
  },
  {
   "cell_type": "code",
   "execution_count": null,
   "metadata": {
    "collapsed": true
   },
   "outputs": [],
   "source": []
  }
 ],
 "metadata": {
  "kernelspec": {
   "display_name": "Python [default]",
   "language": "python",
   "name": "python3"
  },
  "language_info": {
   "codemirror_mode": {
    "name": "ipython",
    "version": 3
   },
   "file_extension": ".py",
   "mimetype": "text/x-python",
   "name": "python",
   "nbconvert_exporter": "python",
   "pygments_lexer": "ipython3",
   "version": "3.6.3"
  }
 },
 "nbformat": 4,
 "nbformat_minor": 2
}
